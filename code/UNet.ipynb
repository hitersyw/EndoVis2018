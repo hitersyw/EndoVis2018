{
 "cells": [
  {
   "cell_type": "code",
   "execution_count": 1,
   "metadata": {},
   "outputs": [],
   "source": [
    "# This code is used for JHU CS 482/682: Deep Learning 2019 Spring Project\n",
    "# Copyright: Zhaoshuo Li, Ding Hao, Mingyi Zheng\n",
    "import os\n",
    "\n",
    "import torch\n",
    "import torchvision\n",
    "from torch import nn\n",
    "from torch.autograd import Variable\n",
    "import torch.nn.functional as functional\n",
    "from torch.utils.data import DataLoader, Dataset\n",
    "# from torchvision import transforms\n",
    "import torchvision.transforms.functional as TF\n",
    "\n",
    "import numpy as np\n",
    "import random\n",
    "from tensorboardX import SummaryWriter\n",
    "\n",
    "import transforms\n",
    "from dataset import *\n",
    "from visualization import *\n",
    "from label_conversion import *\n",
    "from dice_loss import *\n",
    "from model_trainning import *\n",
    "from model_pretrainning import *\n",
    "from model_from_ternaus import *\n",
    "\n",
    "from unet import *"
   ]
  },
  {
   "cell_type": "code",
   "execution_count": 2,
   "metadata": {},
   "outputs": [
    {
     "name": "stdout",
     "output_type": "stream",
     "text": [
      "cuda\n"
     ]
    }
   ],
   "source": [
    "os.environ[\"CUDA_VISIBLE_DEVICES\"]=\"2\"\n",
    "\n",
    "device = torch.device(\"cuda\" if torch.cuda.is_available() else \"cpu\")\n",
    "# device = torch.device(\"cpu\")\n",
    "\n",
    "# Assuming that we are on a CUDA machine, this should print a CUDA device:\n",
    "print(device)"
   ]
  },
  {
   "cell_type": "markdown",
   "metadata": {},
   "source": [
    "# Seed pytorch and numpy and random"
   ]
  },
  {
   "cell_type": "code",
   "execution_count": 3,
   "metadata": {},
   "outputs": [],
   "source": [
    "# IMPORTANT!\n",
    "# must seed the same value each time when training a new network\n",
    "seed = 256\n",
    "random.seed(seed)\n",
    "torch.manual_seed(seed)\n",
    "np.random.seed(seed)\n",
    "pretrain_seed = 128"
   ]
  },
  {
   "cell_type": "markdown",
   "metadata": {},
   "source": [
    "## Hyperparameters"
   ]
  },
  {
   "cell_type": "code",
   "execution_count": 4,
   "metadata": {},
   "outputs": [],
   "source": [
    "train_batch_size = 8\n",
    "validation_batch_size= 8\n",
    "learning_rate = 0.001\n",
    "num_epochs = 150\n",
    "num_class = 12"
   ]
  },
  {
   "cell_type": "code",
   "execution_count": null,
   "metadata": {},
   "outputs": [],
   "source": [
    "weights = torch.ones((num_class,1))\n",
    "weights = weights.to(device)\n",
    "dice_loss = DICELoss(weights) "
   ]
  },
  {
   "cell_type": "markdown",
   "metadata": {},
   "source": [
    "## Visualization"
   ]
  },
  {
   "cell_type": "code",
   "execution_count": null,
   "metadata": {},
   "outputs": [],
   "source": [
    "# Initialize the visualization environment\n",
    "writer = SummaryWriter()"
   ]
  },
  {
   "cell_type": "markdown",
   "metadata": {},
   "source": [
    "# Baseline, without augmentation"
   ]
  },
  {
   "cell_type": "markdown",
   "metadata": {},
   "source": [
    "### Unet"
   ]
  },
  {
   "cell_type": "code",
   "execution_count": null,
   "metadata": {},
   "outputs": [],
   "source": [
    "# IMPORTANT!\n",
    "# must seed the same value each time when training a new network\n",
    "seed = 256\n",
    "random.seed(seed)\n",
    "torch.manual_seed(seed)\n",
    "np.random.seed(seed)"
   ]
  },
  {
   "cell_type": "code",
   "execution_count": null,
   "metadata": {},
   "outputs": [
    {
     "name": "stdout",
     "output_type": "stream",
     "text": [
      "model loaded\n"
     ]
    }
   ],
   "source": [
    "# initialize model\n",
    "model = unet(useBN=True)\n",
    "model.to(device)\n",
    "print(\"model loaded\")"
   ]
  },
  {
   "cell_type": "markdown",
   "metadata": {},
   "source": [
    "### Optimizer and Scheduler and loss"
   ]
  },
  {
   "cell_type": "code",
   "execution_count": null,
   "metadata": {},
   "outputs": [],
   "source": [
    "# intialize optimizer and lr decay\n",
    "optimizer = torch.optim.Adam(model.parameters(),lr=learning_rate)\n",
    "scheduler = torch.optim.lr_scheduler.StepLR(optimizer, step_size=1, gamma=0.95)"
   ]
  },
  {
   "cell_type": "code",
   "execution_count": null,
   "metadata": {},
   "outputs": [],
   "source": [
    "# define dataset\n",
    "train_dataset=MICCAIDataset(data_type = \"train\", transform=None)\n",
    "validation_dataset=MICCAIDataset(data_type = \"validation\", transform=None)\n",
    "label_converter = LabelConverter()\n",
    "\n",
    "# # show one example\n",
    "# img,label = train_dataset.__getitem__(0)\n",
    "# imshow(img.permute(1,2,0),denormalize=True)\n",
    "# colorlabel = train_dataset.label_converter.label2color(label.permute(1,2,0))\n",
    "# imshow(colorlabel)\n",
    "\n",
    "# # show one example\n",
    "# img,label = validation_dataset.__getitem__(0)\n",
    "# imshow(img.permute(1,2,0),denormalize=True)\n",
    "# colorlabel = train_dataset.label_converter.label2color(label.permute(1,2,0))\n",
    "# imshow(colorlabel)\n",
    "\n",
    "# intialize the dataloader\n",
    "train_generator = DataLoader(train_dataset,shuffle=True,batch_size=train_batch_size,num_workers=8)\n",
    "validation_generator = DataLoader(validation_dataset,shuffle=True,batch_size=validation_batch_size,num_workers=8)"
   ]
  },
  {
   "cell_type": "markdown",
   "metadata": {},
   "source": [
    "### Start training"
   ]
  },
  {
   "cell_type": "code",
   "execution_count": null,
   "metadata": {
    "scrolled": true
   },
   "outputs": [
    {
     "name": "stdout",
     "output_type": "stream",
     "text": [
      "Training Started!\n",
      "\n",
      "EPOCH 1 of 150\n",
      "\n",
      "Training Loss: 0.8568\n",
      "0 Class, True Pos 29171220.0, False Pos 21813304.0, False Neg 23953550.0, Num Pixel 53124768.0, Dice score 0.56\n",
      "1 Class, True Pos 6685966.0, False Pos 5457427.0, False Neg 4237535.0, Num Pixel 10923501.0, Dice score 0.58\n",
      "2 Class, True Pos 3256451.0, False Pos 5489278.0, False Neg 2101208.0, Num Pixel 5357659.0, Dice score 0.46\n",
      "3 Class, True Pos 296683.0, False Pos 1765565.0, False Neg 2180660.0, Num Pixel 2477343.0, Dice score 0.13\n",
      "4 Class, True Pos 846285.0, False Pos 1868685.0, False Neg 19203332.0, Num Pixel 20049616.0, Dice score 0.07\n",
      "5 Class, True Pos 7814052.0, False Pos 18079506.0, False Neg 5882046.0, Num Pixel 13696098.0, Dice score 0.39\n",
      "6 Class, True Pos 15521.0, False Pos 3497506.0, False Neg 403097.0, Num Pixel 418618.0, Dice score 0.01\n",
      "7 Class, True Pos 265.0, False Pos 5073.0, False Neg 612899.0, Num Pixel 613164.0, Dice score 0.00\n",
      "8 Class, True Pos 0.0, False Pos 1615176.0, False Neg 3960.0, Num Pixel 3960.0, Dice score 0.00\n",
      "9 Class, True Pos 1.0, False Pos 890.0, False Neg 488610.0, Num Pixel 488611.0, Dice score 0.00\n",
      "10 Class, True Pos 2238292.0, False Pos 7296655.0, False Neg 7274434.0, Num Pixel 9512726.0, Dice score 0.24\n",
      "11 Class, True Pos 1.0, False Pos 13714.0, False Neg 561445.0, Num Pixel 561446.0, Dice score 0.00\n",
      "Vaildation Loss: 0.7831\n",
      "0 Class, True Pos 7817658.0, False Pos 5503084.0, False Neg 5288035.0, Num Pixel 13105693.0, Dice score 0.59\n",
      "1 Class, True Pos 1580543.0, False Pos 803813.0, False Neg 958656.0, Num Pixel 2539199.0, Dice score 0.64\n",
      "2 Class, True Pos 620981.0, False Pos 522022.0, False Neg 714449.0, Num Pixel 1335430.0, Dice score 0.50\n",
      "3 Class, True Pos 250037.0, False Pos 800145.0, False Neg 313733.0, Num Pixel 563770.0, Dice score 0.31\n",
      "4 Class, True Pos 430382.0, False Pos 719659.0, False Neg 4507137.0, Num Pixel 4937519.0, Dice score 0.14\n",
      "5 Class, True Pos 2293814.0, False Pos 3531015.0, False Neg 1199985.0, Num Pixel 3493799.0, Dice score 0.49\n",
      "6 Class, True Pos 0.0, False Pos 0.0, False Neg 94186.0, Num Pixel 94186.0, Dice score 0.00\n",
      "7 Class, True Pos 0.0, False Pos 0.0, False Neg 139522.0, Num Pixel 139522.0, Dice score 0.00\n",
      "8 Class, True Pos 0.0, False Pos 0.0, False Neg 499.0, Num Pixel 499.0, Dice score 0.00\n",
      "9 Class, True Pos 0.0, False Pos 0.0, False Neg 114383.0, Num Pixel 114383.0, Dice score 0.00\n",
      "10 Class, True Pos 1049327.0, False Pos 3322960.0, False Neg 1696152.0, Num Pixel 2745479.0, Dice score 0.29\n",
      "11 Class, True Pos 0.0, False Pos 0.0, False Neg 175961.0, Num Pixel 175961.0, Dice score 0.00\n",
      "----------\n",
      "worst performance: dice 0.30\n",
      "best performance: dice 0.70\n",
      "Dice Score: 0.2478\n",
      "----------\n",
      "\n",
      "EPOCH 2 of 150\n",
      "\n"
     ]
    }
   ],
   "source": [
    "best_model_wts, best_accuracy = run_training(model,device,num_class,scheduler,optimizer,dice_loss,num_epochs,train_generator,train_dataset,validation_generator,validation_dataset,writer)\n",
    "print(best_accuracy)"
   ]
  },
  {
   "cell_type": "code",
   "execution_count": null,
   "metadata": {},
   "outputs": [],
   "source": [
    "## load best model weights\n",
    "model.load_state_dict(best_model_wts)\n",
    "## save model\n",
    "torch.save(model.state_dict(), 'vanilla_trained_unet_2.pt')"
   ]
  }
 ],
 "metadata": {
  "kernelspec": {
   "display_name": "Python 3",
   "language": "python",
   "name": "python3"
  },
  "language_info": {
   "codemirror_mode": {
    "name": "ipython",
    "version": 3
   },
   "file_extension": ".py",
   "mimetype": "text/x-python",
   "name": "python",
   "nbconvert_exporter": "python",
   "pygments_lexer": "ipython3",
   "version": "3.7.1"
  }
 },
 "nbformat": 4,
 "nbformat_minor": 2
}
